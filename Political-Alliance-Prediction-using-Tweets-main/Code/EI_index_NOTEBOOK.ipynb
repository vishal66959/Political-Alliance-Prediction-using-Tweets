{
  "nbformat": 4,
  "nbformat_minor": 0,
  "metadata": {
    "colab": {
      "name": "EI_index.ipynb",
      "provenance": []
    },
    "kernelspec": {
      "name": "python3",
      "display_name": "Python 3"
    },
    "language_info": {
      "name": "python"
    }
  },
  "cells": [
    {
      "cell_type": "code",
      "metadata": {
        "id": "nMFGnQNfIZsy"
      },
      "source": [
        "import pandas as pd\n",
        "import numpy as np"
      ],
      "execution_count": 1,
      "outputs": []
    },
    {
      "cell_type": "code",
      "metadata": {
        "id": "_V8wDHNbIaVE"
      },
      "source": [
        "df = pd.read_csv(\"covid_mentions_polvpol_polpartylabelled.csv\",encoding = \"ISO-8859-1\")"
      ],
      "execution_count": 2,
      "outputs": []
    },
    {
      "cell_type": "code",
      "metadata": {
        "colab": {
          "base_uri": "https://localhost:8080/",
          "height": 406
        },
        "id": "7eewpfpiI2Sb",
        "outputId": "db7eb066-094e-4988-ee5b-7037b5bab0ad"
      },
      "source": [
        "df\n",
        "\n"
      ],
      "execution_count": 6,
      "outputs": [
        {
          "output_type": "execute_result",
          "data": {
            "text/html": [
              "<div>\n",
              "<style scoped>\n",
              "    .dataframe tbody tr th:only-of-type {\n",
              "        vertical-align: middle;\n",
              "    }\n",
              "\n",
              "    .dataframe tbody tr th {\n",
              "        vertical-align: top;\n",
              "    }\n",
              "\n",
              "    .dataframe thead th {\n",
              "        text-align: right;\n",
              "    }\n",
              "</style>\n",
              "<table border=\"1\" class=\"dataframe\">\n",
              "  <thead>\n",
              "    <tr style=\"text-align: right;\">\n",
              "      <th></th>\n",
              "      <th>Source</th>\n",
              "      <th>Source_Party</th>\n",
              "      <th>Target</th>\n",
              "      <th>Target_Party</th>\n",
              "      <th>politician</th>\n",
              "      <th>party</th>\n",
              "      <th>Unnamed: 6</th>\n",
              "    </tr>\n",
              "  </thead>\n",
              "  <tbody>\n",
              "    <tr>\n",
              "      <th>0</th>\n",
              "      <td>sarojpandeybjp</td>\n",
              "      <td>bjp4india</td>\n",
              "      <td>narendramodi</td>\n",
              "      <td>bjp4india</td>\n",
              "      <td>narendramodi</td>\n",
              "      <td>bjp4india</td>\n",
              "      <td>bjp4india</td>\n",
              "    </tr>\n",
              "    <tr>\n",
              "      <th>1</th>\n",
              "      <td>piyushgoyal</td>\n",
              "      <td>bjp4india</td>\n",
              "      <td>rsprasad</td>\n",
              "      <td>bjp4india</td>\n",
              "      <td>smritiirani</td>\n",
              "      <td>bjp4india</td>\n",
              "      <td>NaN</td>\n",
              "    </tr>\n",
              "    <tr>\n",
              "      <th>2</th>\n",
              "      <td>nanglucky</td>\n",
              "      <td>bjp4india</td>\n",
              "      <td>himantabiswa</td>\n",
              "      <td>bjp4india</td>\n",
              "      <td>amitshah</td>\n",
              "      <td>bjp4india</td>\n",
              "      <td>NaN</td>\n",
              "    </tr>\n",
              "    <tr>\n",
              "      <th>3</th>\n",
              "      <td>nanglucky</td>\n",
              "      <td>bjp4india</td>\n",
              "      <td>pijush_hazarika</td>\n",
              "      <td>bjp4india</td>\n",
              "      <td>kirenrijiju</td>\n",
              "      <td>bjp4india</td>\n",
              "      <td>NaN</td>\n",
              "    </tr>\n",
              "    <tr>\n",
              "      <th>4</th>\n",
              "      <td>dpradhanbjp</td>\n",
              "      <td>bjp4india</td>\n",
              "      <td>narendramodi</td>\n",
              "      <td>bjp4india</td>\n",
              "      <td>rajnathsingh</td>\n",
              "      <td>bjp4india</td>\n",
              "      <td>NaN</td>\n",
              "    </tr>\n",
              "    <tr>\n",
              "      <th>...</th>\n",
              "      <td>...</td>\n",
              "      <td>...</td>\n",
              "      <td>...</td>\n",
              "      <td>...</td>\n",
              "      <td>...</td>\n",
              "      <td>...</td>\n",
              "      <td>...</td>\n",
              "    </tr>\n",
              "    <tr>\n",
              "      <th>3927</th>\n",
              "      <td>rksinhabjp</td>\n",
              "      <td>bjp4india</td>\n",
              "      <td>jpnadda</td>\n",
              "      <td>bjp4india</td>\n",
              "      <td>NaN</td>\n",
              "      <td>NaN</td>\n",
              "      <td>NaN</td>\n",
              "    </tr>\n",
              "    <tr>\n",
              "      <th>3928</th>\n",
              "      <td>seethakkamla</td>\n",
              "      <td>incindia</td>\n",
              "      <td>rahulgandhi</td>\n",
              "      <td>incindia</td>\n",
              "      <td>NaN</td>\n",
              "      <td>NaN</td>\n",
              "      <td>NaN</td>\n",
              "    </tr>\n",
              "    <tr>\n",
              "      <th>3929</th>\n",
              "      <td>dev_fadnavis</td>\n",
              "      <td>bjp4india</td>\n",
              "      <td>narendramodi</td>\n",
              "      <td>bjp4india</td>\n",
              "      <td>NaN</td>\n",
              "      <td>NaN</td>\n",
              "      <td>NaN</td>\n",
              "    </tr>\n",
              "    <tr>\n",
              "      <th>3930</th>\n",
              "      <td>dev_fadnavis</td>\n",
              "      <td>bjp4india</td>\n",
              "      <td>drharshvardhan</td>\n",
              "      <td>bjp4india</td>\n",
              "      <td>NaN</td>\n",
              "      <td>NaN</td>\n",
              "      <td>NaN</td>\n",
              "    </tr>\n",
              "    <tr>\n",
              "      <th>3931</th>\n",
              "      <td>rksinhabjp</td>\n",
              "      <td>bjp4india</td>\n",
              "      <td>narendramodi</td>\n",
              "      <td>bjp4india</td>\n",
              "      <td>NaN</td>\n",
              "      <td>NaN</td>\n",
              "      <td>NaN</td>\n",
              "    </tr>\n",
              "  </tbody>\n",
              "</table>\n",
              "<p>3932 rows × 7 columns</p>\n",
              "</div>"
            ],
            "text/plain": [
              "              Source Source_Party  ...      party Unnamed: 6\n",
              "0     sarojpandeybjp    bjp4india  ...  bjp4india  bjp4india\n",
              "1        piyushgoyal    bjp4india  ...  bjp4india        NaN\n",
              "2          nanglucky    bjp4india  ...  bjp4india        NaN\n",
              "3          nanglucky    bjp4india  ...  bjp4india        NaN\n",
              "4        dpradhanbjp    bjp4india  ...  bjp4india        NaN\n",
              "...              ...          ...  ...        ...        ...\n",
              "3927      rksinhabjp    bjp4india  ...        NaN        NaN\n",
              "3928    seethakkamla     incindia  ...        NaN        NaN\n",
              "3929    dev_fadnavis    bjp4india  ...        NaN        NaN\n",
              "3930    dev_fadnavis    bjp4india  ...        NaN        NaN\n",
              "3931      rksinhabjp    bjp4india  ...        NaN        NaN\n",
              "\n",
              "[3932 rows x 7 columns]"
            ]
          },
          "metadata": {
            "tags": []
          },
          "execution_count": 6
        }
      ]
    },
    {
      "cell_type": "code",
      "metadata": {
        "colab": {
          "base_uri": "https://localhost:8080/"
        },
        "id": "-zeVzySODj-G",
        "outputId": "40cd56e4-df78-44ab-fa2f-1a8ddea9677f"
      },
      "source": [
        "df['Source_Party']"
      ],
      "execution_count": 9,
      "outputs": [
        {
          "output_type": "execute_result",
          "data": {
            "text/plain": [
              "0       bjp4india\n",
              "1       bjp4india\n",
              "2       bjp4india\n",
              "3       bjp4india\n",
              "4       bjp4india\n",
              "          ...    \n",
              "3927    bjp4india\n",
              "3928     incindia\n",
              "3929    bjp4india\n",
              "3930    bjp4india\n",
              "3931    bjp4india\n",
              "Name: Source_Party, Length: 3932, dtype: object"
            ]
          },
          "metadata": {
            "tags": []
          },
          "execution_count": 9
        }
      ]
    },
    {
      "cell_type": "code",
      "metadata": {
        "id": "ZM9nsKzjEbN0"
      },
      "source": [
        "df['c'] = (df['Source_Party'] == df['Target_Party']).cumsum()"
      ],
      "execution_count": 4,
      "outputs": []
    },
    {
      "cell_type": "code",
      "metadata": {
        "colab": {
          "base_uri": "https://localhost:8080/",
          "height": 406
        },
        "id": "_4sGdFcZGDJr",
        "outputId": "afef3b72-9bbe-4c31-83f7-df3d6a7bd619"
      },
      "source": [
        "df"
      ],
      "execution_count": 5,
      "outputs": [
        {
          "output_type": "execute_result",
          "data": {
            "text/html": [
              "<div>\n",
              "<style scoped>\n",
              "    .dataframe tbody tr th:only-of-type {\n",
              "        vertical-align: middle;\n",
              "    }\n",
              "\n",
              "    .dataframe tbody tr th {\n",
              "        vertical-align: top;\n",
              "    }\n",
              "\n",
              "    .dataframe thead th {\n",
              "        text-align: right;\n",
              "    }\n",
              "</style>\n",
              "<table border=\"1\" class=\"dataframe\">\n",
              "  <thead>\n",
              "    <tr style=\"text-align: right;\">\n",
              "      <th></th>\n",
              "      <th>Source</th>\n",
              "      <th>Source_Party</th>\n",
              "      <th>Target</th>\n",
              "      <th>Target_Party</th>\n",
              "      <th>politician</th>\n",
              "      <th>party</th>\n",
              "      <th>Unnamed: 6</th>\n",
              "      <th>c</th>\n",
              "    </tr>\n",
              "  </thead>\n",
              "  <tbody>\n",
              "    <tr>\n",
              "      <th>0</th>\n",
              "      <td>sarojpandeybjp</td>\n",
              "      <td>bjp4india</td>\n",
              "      <td>narendramodi</td>\n",
              "      <td>bjp4india</td>\n",
              "      <td>narendramodi</td>\n",
              "      <td>bjp4india</td>\n",
              "      <td>bjp4india</td>\n",
              "      <td>1</td>\n",
              "    </tr>\n",
              "    <tr>\n",
              "      <th>1</th>\n",
              "      <td>piyushgoyal</td>\n",
              "      <td>bjp4india</td>\n",
              "      <td>rsprasad</td>\n",
              "      <td>bjp4india</td>\n",
              "      <td>smritiirani</td>\n",
              "      <td>bjp4india</td>\n",
              "      <td>NaN</td>\n",
              "      <td>2</td>\n",
              "    </tr>\n",
              "    <tr>\n",
              "      <th>2</th>\n",
              "      <td>nanglucky</td>\n",
              "      <td>bjp4india</td>\n",
              "      <td>himantabiswa</td>\n",
              "      <td>bjp4india</td>\n",
              "      <td>amitshah</td>\n",
              "      <td>bjp4india</td>\n",
              "      <td>NaN</td>\n",
              "      <td>3</td>\n",
              "    </tr>\n",
              "    <tr>\n",
              "      <th>3</th>\n",
              "      <td>nanglucky</td>\n",
              "      <td>bjp4india</td>\n",
              "      <td>pijush_hazarika</td>\n",
              "      <td>bjp4india</td>\n",
              "      <td>kirenrijiju</td>\n",
              "      <td>bjp4india</td>\n",
              "      <td>NaN</td>\n",
              "      <td>4</td>\n",
              "    </tr>\n",
              "    <tr>\n",
              "      <th>4</th>\n",
              "      <td>dpradhanbjp</td>\n",
              "      <td>bjp4india</td>\n",
              "      <td>narendramodi</td>\n",
              "      <td>bjp4india</td>\n",
              "      <td>rajnathsingh</td>\n",
              "      <td>bjp4india</td>\n",
              "      <td>NaN</td>\n",
              "      <td>5</td>\n",
              "    </tr>\n",
              "    <tr>\n",
              "      <th>...</th>\n",
              "      <td>...</td>\n",
              "      <td>...</td>\n",
              "      <td>...</td>\n",
              "      <td>...</td>\n",
              "      <td>...</td>\n",
              "      <td>...</td>\n",
              "      <td>...</td>\n",
              "      <td>...</td>\n",
              "    </tr>\n",
              "    <tr>\n",
              "      <th>3927</th>\n",
              "      <td>rksinhabjp</td>\n",
              "      <td>bjp4india</td>\n",
              "      <td>jpnadda</td>\n",
              "      <td>bjp4india</td>\n",
              "      <td>NaN</td>\n",
              "      <td>NaN</td>\n",
              "      <td>NaN</td>\n",
              "      <td>3150</td>\n",
              "    </tr>\n",
              "    <tr>\n",
              "      <th>3928</th>\n",
              "      <td>seethakkamla</td>\n",
              "      <td>incindia</td>\n",
              "      <td>rahulgandhi</td>\n",
              "      <td>incindia</td>\n",
              "      <td>NaN</td>\n",
              "      <td>NaN</td>\n",
              "      <td>NaN</td>\n",
              "      <td>3151</td>\n",
              "    </tr>\n",
              "    <tr>\n",
              "      <th>3929</th>\n",
              "      <td>dev_fadnavis</td>\n",
              "      <td>bjp4india</td>\n",
              "      <td>narendramodi</td>\n",
              "      <td>bjp4india</td>\n",
              "      <td>NaN</td>\n",
              "      <td>NaN</td>\n",
              "      <td>NaN</td>\n",
              "      <td>3152</td>\n",
              "    </tr>\n",
              "    <tr>\n",
              "      <th>3930</th>\n",
              "      <td>dev_fadnavis</td>\n",
              "      <td>bjp4india</td>\n",
              "      <td>drharshvardhan</td>\n",
              "      <td>bjp4india</td>\n",
              "      <td>NaN</td>\n",
              "      <td>NaN</td>\n",
              "      <td>NaN</td>\n",
              "      <td>3153</td>\n",
              "    </tr>\n",
              "    <tr>\n",
              "      <th>3931</th>\n",
              "      <td>rksinhabjp</td>\n",
              "      <td>bjp4india</td>\n",
              "      <td>narendramodi</td>\n",
              "      <td>bjp4india</td>\n",
              "      <td>NaN</td>\n",
              "      <td>NaN</td>\n",
              "      <td>NaN</td>\n",
              "      <td>3154</td>\n",
              "    </tr>\n",
              "  </tbody>\n",
              "</table>\n",
              "<p>3932 rows × 8 columns</p>\n",
              "</div>"
            ],
            "text/plain": [
              "              Source Source_Party           Target  ...      party Unnamed: 6     c\n",
              "0     sarojpandeybjp    bjp4india     narendramodi  ...  bjp4india  bjp4india     1\n",
              "1        piyushgoyal    bjp4india         rsprasad  ...  bjp4india        NaN     2\n",
              "2          nanglucky    bjp4india     himantabiswa  ...  bjp4india        NaN     3\n",
              "3          nanglucky    bjp4india  pijush_hazarika  ...  bjp4india        NaN     4\n",
              "4        dpradhanbjp    bjp4india     narendramodi  ...  bjp4india        NaN     5\n",
              "...              ...          ...              ...  ...        ...        ...   ...\n",
              "3927      rksinhabjp    bjp4india          jpnadda  ...        NaN        NaN  3150\n",
              "3928    seethakkamla     incindia      rahulgandhi  ...        NaN        NaN  3151\n",
              "3929    dev_fadnavis    bjp4india     narendramodi  ...        NaN        NaN  3152\n",
              "3930    dev_fadnavis    bjp4india   drharshvardhan  ...        NaN        NaN  3153\n",
              "3931      rksinhabjp    bjp4india     narendramodi  ...        NaN        NaN  3154\n",
              "\n",
              "[3932 rows x 8 columns]"
            ]
          },
          "metadata": {
            "tags": []
          },
          "execution_count": 5
        }
      ]
    },
    {
      "cell_type": "code",
      "metadata": {
        "colab": {
          "base_uri": "https://localhost:8080/"
        },
        "id": "ZO9yGaHLGi9f",
        "outputId": "ae25c69b-d739-4621-cd4b-0fcf92d58652"
      },
      "source": [
        "internal = df['c'].iloc[-1]\n",
        "internal"
      ],
      "execution_count": 6,
      "outputs": [
        {
          "output_type": "execute_result",
          "data": {
            "text/plain": [
              "3154"
            ]
          },
          "metadata": {
            "tags": []
          },
          "execution_count": 6
        }
      ]
    },
    {
      "cell_type": "code",
      "metadata": {
        "colab": {
          "base_uri": "https://localhost:8080/"
        },
        "id": "XDOvUm-hHkFG",
        "outputId": "540a97b2-9756-4049-b385-5f4221b2f663"
      },
      "source": [
        "external=(len(df))-internal\n",
        "external"
      ],
      "execution_count": 7,
      "outputs": [
        {
          "output_type": "execute_result",
          "data": {
            "text/plain": [
              "778"
            ]
          },
          "metadata": {
            "tags": []
          },
          "execution_count": 7
        }
      ]
    },
    {
      "cell_type": "code",
      "metadata": {
        "colab": {
          "base_uri": "https://localhost:8080/"
        },
        "id": "6_8uuS0-IQAQ",
        "outputId": "a1aeeea3-a6fd-4e66-9ac2-8484a6685cf7"
      },
      "source": [
        "ei=(external-internal)/len(df)\n",
        "ei"
      ],
      "execution_count": 8,
      "outputs": [
        {
          "output_type": "execute_result",
          "data": {
            "text/plain": [
              "-0.6042726347914548"
            ]
          },
          "metadata": {
            "tags": []
          },
          "execution_count": 8
        }
      ]
    },
    {
      "cell_type": "code",
      "metadata": {
        "id": "FVbNsYuFIdtt"
      },
      "source": [
        "data = [df[\"Source_Party\"], df[\"Target_Party\"]]\n",
        "headers = [\"Source_Party\", \"Target_Party\"]\n",
        "df1 = pd.concat(data, axis=1, keys=headers)"
      ],
      "execution_count": 9,
      "outputs": []
    },
    {
      "cell_type": "code",
      "metadata": {
        "colab": {
          "base_uri": "https://localhost:8080/",
          "height": 406
        },
        "id": "wDIU4nHAxYgP",
        "outputId": "87e01c8c-586d-44bb-8f6b-eeffae75f913"
      },
      "source": [
        "df1"
      ],
      "execution_count": 10,
      "outputs": [
        {
          "output_type": "execute_result",
          "data": {
            "text/html": [
              "<div>\n",
              "<style scoped>\n",
              "    .dataframe tbody tr th:only-of-type {\n",
              "        vertical-align: middle;\n",
              "    }\n",
              "\n",
              "    .dataframe tbody tr th {\n",
              "        vertical-align: top;\n",
              "    }\n",
              "\n",
              "    .dataframe thead th {\n",
              "        text-align: right;\n",
              "    }\n",
              "</style>\n",
              "<table border=\"1\" class=\"dataframe\">\n",
              "  <thead>\n",
              "    <tr style=\"text-align: right;\">\n",
              "      <th></th>\n",
              "      <th>Source_Party</th>\n",
              "      <th>Target_Party</th>\n",
              "    </tr>\n",
              "  </thead>\n",
              "  <tbody>\n",
              "    <tr>\n",
              "      <th>0</th>\n",
              "      <td>bjp4india</td>\n",
              "      <td>bjp4india</td>\n",
              "    </tr>\n",
              "    <tr>\n",
              "      <th>1</th>\n",
              "      <td>bjp4india</td>\n",
              "      <td>bjp4india</td>\n",
              "    </tr>\n",
              "    <tr>\n",
              "      <th>2</th>\n",
              "      <td>bjp4india</td>\n",
              "      <td>bjp4india</td>\n",
              "    </tr>\n",
              "    <tr>\n",
              "      <th>3</th>\n",
              "      <td>bjp4india</td>\n",
              "      <td>bjp4india</td>\n",
              "    </tr>\n",
              "    <tr>\n",
              "      <th>4</th>\n",
              "      <td>bjp4india</td>\n",
              "      <td>bjp4india</td>\n",
              "    </tr>\n",
              "    <tr>\n",
              "      <th>...</th>\n",
              "      <td>...</td>\n",
              "      <td>...</td>\n",
              "    </tr>\n",
              "    <tr>\n",
              "      <th>3927</th>\n",
              "      <td>bjp4india</td>\n",
              "      <td>bjp4india</td>\n",
              "    </tr>\n",
              "    <tr>\n",
              "      <th>3928</th>\n",
              "      <td>incindia</td>\n",
              "      <td>incindia</td>\n",
              "    </tr>\n",
              "    <tr>\n",
              "      <th>3929</th>\n",
              "      <td>bjp4india</td>\n",
              "      <td>bjp4india</td>\n",
              "    </tr>\n",
              "    <tr>\n",
              "      <th>3930</th>\n",
              "      <td>bjp4india</td>\n",
              "      <td>bjp4india</td>\n",
              "    </tr>\n",
              "    <tr>\n",
              "      <th>3931</th>\n",
              "      <td>bjp4india</td>\n",
              "      <td>bjp4india</td>\n",
              "    </tr>\n",
              "  </tbody>\n",
              "</table>\n",
              "<p>3932 rows × 2 columns</p>\n",
              "</div>"
            ],
            "text/plain": [
              "     Source_Party Target_Party\n",
              "0       bjp4india    bjp4india\n",
              "1       bjp4india    bjp4india\n",
              "2       bjp4india    bjp4india\n",
              "3       bjp4india    bjp4india\n",
              "4       bjp4india    bjp4india\n",
              "...           ...          ...\n",
              "3927    bjp4india    bjp4india\n",
              "3928     incindia     incindia\n",
              "3929    bjp4india    bjp4india\n",
              "3930    bjp4india    bjp4india\n",
              "3931    bjp4india    bjp4india\n",
              "\n",
              "[3932 rows x 2 columns]"
            ]
          },
          "metadata": {
            "tags": []
          },
          "execution_count": 10
        }
      ]
    },
    {
      "cell_type": "code",
      "metadata": {
        "id": "ScnBlSFqxZWG"
      },
      "source": [
        "n_by_party = df1.groupby(\"Source_Party\")"
      ],
      "execution_count": 19,
      "outputs": []
    },
    {
      "cell_type": "code",
      "metadata": {
        "id": "uMw9o-xCz-IL"
      },
      "source": [
        "df8=n_by_party.get_group(\"bjp4india\")\n",
        "df8.to_csv('bjptobjp.csv')"
      ],
      "execution_count": 23,
      "outputs": []
    },
    {
      "cell_type": "code",
      "metadata": {
        "colab": {
          "base_uri": "https://localhost:8080/",
          "height": 334
        },
        "id": "qXFGBbwOz_JA",
        "outputId": "038efbb3-d489-48d6-dd1c-98e4a68a38d5"
      },
      "source": [
        "n_by_state_gender = df.groupby([\"Source_Party\"]==\"bjp4india\").count()"
      ],
      "execution_count": 16,
      "outputs": [
        {
          "output_type": "error",
          "ename": "KeyError",
          "evalue": "ignored",
          "traceback": [
            "\u001b[0;31m---------------------------------------------------------------------------\u001b[0m",
            "\u001b[0;31mKeyError\u001b[0m                                  Traceback (most recent call last)",
            "\u001b[0;32m<ipython-input-16-d8bd9c62f36a>\u001b[0m in \u001b[0;36m<module>\u001b[0;34m()\u001b[0m\n\u001b[0;32m----> 1\u001b[0;31m \u001b[0mn_by_state_gender\u001b[0m \u001b[0;34m=\u001b[0m \u001b[0mdf\u001b[0m\u001b[0;34m.\u001b[0m\u001b[0mgroupby\u001b[0m\u001b[0;34m(\u001b[0m\u001b[0;34m[\u001b[0m\u001b[0;34m\"Source_Party\"\u001b[0m\u001b[0;34m]\u001b[0m\u001b[0;34m==\u001b[0m\u001b[0;34m\"bjp4india\"\u001b[0m\u001b[0;34m)\u001b[0m\u001b[0;34m.\u001b[0m\u001b[0mcount\u001b[0m\u001b[0;34m(\u001b[0m\u001b[0;34m)\u001b[0m\u001b[0;34m\u001b[0m\u001b[0;34m\u001b[0m\u001b[0m\n\u001b[0m",
            "\u001b[0;32m/usr/local/lib/python3.7/dist-packages/pandas/core/frame.py\u001b[0m in \u001b[0;36mgroupby\u001b[0;34m(self, by, axis, level, as_index, sort, group_keys, squeeze, observed, dropna)\u001b[0m\n\u001b[1;32m   6523\u001b[0m             \u001b[0msqueeze\u001b[0m\u001b[0;34m=\u001b[0m\u001b[0msqueeze\u001b[0m\u001b[0;34m,\u001b[0m\u001b[0;34m\u001b[0m\u001b[0;34m\u001b[0m\u001b[0m\n\u001b[1;32m   6524\u001b[0m             \u001b[0mobserved\u001b[0m\u001b[0;34m=\u001b[0m\u001b[0mobserved\u001b[0m\u001b[0;34m,\u001b[0m\u001b[0;34m\u001b[0m\u001b[0;34m\u001b[0m\u001b[0m\n\u001b[0;32m-> 6525\u001b[0;31m             \u001b[0mdropna\u001b[0m\u001b[0;34m=\u001b[0m\u001b[0mdropna\u001b[0m\u001b[0;34m,\u001b[0m\u001b[0;34m\u001b[0m\u001b[0;34m\u001b[0m\u001b[0m\n\u001b[0m\u001b[1;32m   6526\u001b[0m         )\n\u001b[1;32m   6527\u001b[0m \u001b[0;34m\u001b[0m\u001b[0m\n",
            "\u001b[0;32m/usr/local/lib/python3.7/dist-packages/pandas/core/groupby/groupby.py\u001b[0m in \u001b[0;36m__init__\u001b[0;34m(self, obj, keys, axis, level, grouper, exclusions, selection, as_index, sort, group_keys, squeeze, observed, mutated, dropna)\u001b[0m\n\u001b[1;32m    531\u001b[0m                 \u001b[0mobserved\u001b[0m\u001b[0;34m=\u001b[0m\u001b[0mobserved\u001b[0m\u001b[0;34m,\u001b[0m\u001b[0;34m\u001b[0m\u001b[0;34m\u001b[0m\u001b[0m\n\u001b[1;32m    532\u001b[0m                 \u001b[0mmutated\u001b[0m\u001b[0;34m=\u001b[0m\u001b[0mself\u001b[0m\u001b[0;34m.\u001b[0m\u001b[0mmutated\u001b[0m\u001b[0;34m,\u001b[0m\u001b[0;34m\u001b[0m\u001b[0;34m\u001b[0m\u001b[0m\n\u001b[0;32m--> 533\u001b[0;31m                 \u001b[0mdropna\u001b[0m\u001b[0;34m=\u001b[0m\u001b[0mself\u001b[0m\u001b[0;34m.\u001b[0m\u001b[0mdropna\u001b[0m\u001b[0;34m,\u001b[0m\u001b[0;34m\u001b[0m\u001b[0;34m\u001b[0m\u001b[0m\n\u001b[0m\u001b[1;32m    534\u001b[0m             )\n\u001b[1;32m    535\u001b[0m \u001b[0;34m\u001b[0m\u001b[0m\n",
            "\u001b[0;32m/usr/local/lib/python3.7/dist-packages/pandas/core/groupby/grouper.py\u001b[0m in \u001b[0;36mget_grouper\u001b[0;34m(obj, key, axis, level, sort, observed, mutated, validate, dropna)\u001b[0m\n\u001b[1;32m    784\u001b[0m                 \u001b[0min_axis\u001b[0m\u001b[0;34m,\u001b[0m \u001b[0mname\u001b[0m\u001b[0;34m,\u001b[0m \u001b[0mlevel\u001b[0m\u001b[0;34m,\u001b[0m \u001b[0mgpr\u001b[0m \u001b[0;34m=\u001b[0m \u001b[0;32mFalse\u001b[0m\u001b[0;34m,\u001b[0m \u001b[0;32mNone\u001b[0m\u001b[0;34m,\u001b[0m \u001b[0mgpr\u001b[0m\u001b[0;34m,\u001b[0m \u001b[0;32mNone\u001b[0m\u001b[0;34m\u001b[0m\u001b[0;34m\u001b[0m\u001b[0m\n\u001b[1;32m    785\u001b[0m             \u001b[0;32melse\u001b[0m\u001b[0;34m:\u001b[0m\u001b[0;34m\u001b[0m\u001b[0;34m\u001b[0m\u001b[0m\n\u001b[0;32m--> 786\u001b[0;31m                 \u001b[0;32mraise\u001b[0m \u001b[0mKeyError\u001b[0m\u001b[0;34m(\u001b[0m\u001b[0mgpr\u001b[0m\u001b[0;34m)\u001b[0m\u001b[0;34m\u001b[0m\u001b[0;34m\u001b[0m\u001b[0m\n\u001b[0m\u001b[1;32m    787\u001b[0m         \u001b[0;32melif\u001b[0m \u001b[0misinstance\u001b[0m\u001b[0;34m(\u001b[0m\u001b[0mgpr\u001b[0m\u001b[0;34m,\u001b[0m \u001b[0mGrouper\u001b[0m\u001b[0;34m)\u001b[0m \u001b[0;32mand\u001b[0m \u001b[0mgpr\u001b[0m\u001b[0;34m.\u001b[0m\u001b[0mkey\u001b[0m \u001b[0;32mis\u001b[0m \u001b[0;32mnot\u001b[0m \u001b[0;32mNone\u001b[0m\u001b[0;34m:\u001b[0m\u001b[0;34m\u001b[0m\u001b[0;34m\u001b[0m\u001b[0m\n\u001b[1;32m    788\u001b[0m             \u001b[0;31m# Add key to exclusions\u001b[0m\u001b[0;34m\u001b[0m\u001b[0;34m\u001b[0m\u001b[0;34m\u001b[0m\u001b[0m\n",
            "\u001b[0;31mKeyError\u001b[0m: False"
          ]
        }
      ]
    },
    {
      "cell_type": "code",
      "metadata": {
        "id": "eAcbqiQm18Ze"
      },
      "source": [
        ""
      ],
      "execution_count": null,
      "outputs": []
    }
  ]
}